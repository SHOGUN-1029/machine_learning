{
  "nbformat": 4,
  "nbformat_minor": 0,
  "metadata": {
    "colab": {
      "provenance": []
    },
    "kernelspec": {
      "name": "python3",
      "display_name": "Python 3"
    },
    "language_info": {
      "name": "python"
    }
  },
  "cells": [
    {
      "cell_type": "code",
      "execution_count": null,
      "metadata": {
        "colab": {
          "base_uri": "https://localhost:8080/",
          "height": 555
        },
        "id": "LC1AHbFSqteN",
        "outputId": "0a4a691b-d69c-4a05-de0d-22c7c203334d"
      },
      "outputs": [
        {
          "output_type": "execute_result",
          "data": {
            "text/plain": [
              "Question                                   0\n",
              "Correct_Code                               0\n",
              "Code_with_Error                            0\n",
              "Type_of_Error                              0\n",
              "Header_and_Main_Declaration                0\n",
              "Incomprehensible_Code                      1\n",
              "Comprehensible_Code_with_logical_errors    0\n",
              "Comprehensible_code_with_syntax_errors     2\n",
              "Correct_code_and_output                    0\n",
              "Final_Marks                                0\n",
              "code_processed                             0\n",
              "code_with_question                         0\n",
              "code_comment                               0\n",
              "code_with_solution                         0\n",
              "ast                                        0\n",
              "dtype: int64"
            ],
            "text/html": [
              "<div>\n",
              "<style scoped>\n",
              "    .dataframe tbody tr th:only-of-type {\n",
              "        vertical-align: middle;\n",
              "    }\n",
              "\n",
              "    .dataframe tbody tr th {\n",
              "        vertical-align: top;\n",
              "    }\n",
              "\n",
              "    .dataframe thead th {\n",
              "        text-align: right;\n",
              "    }\n",
              "</style>\n",
              "<table border=\"1\" class=\"dataframe\">\n",
              "  <thead>\n",
              "    <tr style=\"text-align: right;\">\n",
              "      <th></th>\n",
              "      <th>0</th>\n",
              "    </tr>\n",
              "  </thead>\n",
              "  <tbody>\n",
              "    <tr>\n",
              "      <th>Question</th>\n",
              "      <td>0</td>\n",
              "    </tr>\n",
              "    <tr>\n",
              "      <th>Correct_Code</th>\n",
              "      <td>0</td>\n",
              "    </tr>\n",
              "    <tr>\n",
              "      <th>Code_with_Error</th>\n",
              "      <td>0</td>\n",
              "    </tr>\n",
              "    <tr>\n",
              "      <th>Type_of_Error</th>\n",
              "      <td>0</td>\n",
              "    </tr>\n",
              "    <tr>\n",
              "      <th>Header_and_Main_Declaration</th>\n",
              "      <td>0</td>\n",
              "    </tr>\n",
              "    <tr>\n",
              "      <th>Incomprehensible_Code</th>\n",
              "      <td>1</td>\n",
              "    </tr>\n",
              "    <tr>\n",
              "      <th>Comprehensible_Code_with_logical_errors</th>\n",
              "      <td>0</td>\n",
              "    </tr>\n",
              "    <tr>\n",
              "      <th>Comprehensible_code_with_syntax_errors</th>\n",
              "      <td>2</td>\n",
              "    </tr>\n",
              "    <tr>\n",
              "      <th>Correct_code_and_output</th>\n",
              "      <td>0</td>\n",
              "    </tr>\n",
              "    <tr>\n",
              "      <th>Final_Marks</th>\n",
              "      <td>0</td>\n",
              "    </tr>\n",
              "    <tr>\n",
              "      <th>code_processed</th>\n",
              "      <td>0</td>\n",
              "    </tr>\n",
              "    <tr>\n",
              "      <th>code_with_question</th>\n",
              "      <td>0</td>\n",
              "    </tr>\n",
              "    <tr>\n",
              "      <th>code_comment</th>\n",
              "      <td>0</td>\n",
              "    </tr>\n",
              "    <tr>\n",
              "      <th>code_with_solution</th>\n",
              "      <td>0</td>\n",
              "    </tr>\n",
              "    <tr>\n",
              "      <th>ast</th>\n",
              "      <td>0</td>\n",
              "    </tr>\n",
              "  </tbody>\n",
              "</table>\n",
              "</div><br><label><b>dtype:</b> int64</label>"
            ]
          },
          "metadata": {},
          "execution_count": 14
        }
      ],
      "source": [
        "import pandas as pd\n",
        "df = pd.read_excel('/content/cdata_final.xlsx')\n",
        "df.isna().sum()"
      ]
    },
    {
      "cell_type": "code",
      "source": [
        "df = df.fillna(method='pad')"
      ],
      "metadata": {
        "colab": {
          "base_uri": "https://localhost:8080/"
        },
        "id": "SsvFr9IIrQmx",
        "outputId": "548fef90-f218-44cf-bd9c-0bae29f3e663"
      },
      "execution_count": null,
      "outputs": [
        {
          "output_type": "stream",
          "name": "stderr",
          "text": [
            "<ipython-input-15-4d7ddb4551e6>:1: FutureWarning: DataFrame.fillna with 'method' is deprecated and will raise in a future version. Use obj.ffill() or obj.bfill() instead.\n",
            "  df = df.fillna(method='pad')\n"
          ]
        }
      ]
    },
    {
      "cell_type": "code",
      "source": [
        "df = df.iloc[:,4:10]\n",
        "df"
      ],
      "metadata": {
        "colab": {
          "base_uri": "https://localhost:8080/",
          "height": 444
        },
        "id": "Juf9beAkrgvX",
        "outputId": "cd809ff9-2e3e-4817-e81d-cfa2fa4f74a8"
      },
      "execution_count": null,
      "outputs": [
        {
          "output_type": "execute_result",
          "data": {
            "text/plain": [
              "      Header_and_Main_Declaration  Incomprehensible_Code  \\\n",
              "0                               2                    2.0   \n",
              "1                               2                    2.0   \n",
              "2                               2                    2.0   \n",
              "3                               2                    1.0   \n",
              "4                               2                    2.0   \n",
              "...                           ...                    ...   \n",
              "1171                            1                    0.0   \n",
              "1172                            2                    2.0   \n",
              "1173                            2                    0.0   \n",
              "1174                            2                    2.0   \n",
              "1175                            2                    2.0   \n",
              "\n",
              "      Comprehensible_Code_with_logical_errors  \\\n",
              "0                                           2   \n",
              "1                                           2   \n",
              "2                                           1   \n",
              "3                                           1   \n",
              "4                                           1   \n",
              "...                                       ...   \n",
              "1171                                        0   \n",
              "1172                                        2   \n",
              "1173                                        0   \n",
              "1174                                        1   \n",
              "1175                                        2   \n",
              "\n",
              "      Comprehensible_code_with_syntax_errors  Correct_code_and_output  \\\n",
              "0                                        2.0                        2   \n",
              "1                                        2.0                        0   \n",
              "2                                        1.0                        1   \n",
              "3                                        1.0                        0   \n",
              "4                                        1.0                        0   \n",
              "...                                      ...                      ...   \n",
              "1171                                     0.0                        0   \n",
              "1172                                     1.0                        1   \n",
              "1173                                     0.0                        0   \n",
              "1174                                     2.0                        1   \n",
              "1175                                     2.0                        2   \n",
              "\n",
              "      Final_Marks  \n",
              "0              10  \n",
              "1               8  \n",
              "2               7  \n",
              "3               5  \n",
              "4               6  \n",
              "...           ...  \n",
              "1171            1  \n",
              "1172            8  \n",
              "1173            2  \n",
              "1174            8  \n",
              "1175           10  \n",
              "\n",
              "[1176 rows x 6 columns]"
            ],
            "text/html": [
              "\n",
              "  <div id=\"df-e01a0ca0-3d8e-4fe8-8ce3-da1d88012f7e\" class=\"colab-df-container\">\n",
              "    <div>\n",
              "<style scoped>\n",
              "    .dataframe tbody tr th:only-of-type {\n",
              "        vertical-align: middle;\n",
              "    }\n",
              "\n",
              "    .dataframe tbody tr th {\n",
              "        vertical-align: top;\n",
              "    }\n",
              "\n",
              "    .dataframe thead th {\n",
              "        text-align: right;\n",
              "    }\n",
              "</style>\n",
              "<table border=\"1\" class=\"dataframe\">\n",
              "  <thead>\n",
              "    <tr style=\"text-align: right;\">\n",
              "      <th></th>\n",
              "      <th>Header_and_Main_Declaration</th>\n",
              "      <th>Incomprehensible_Code</th>\n",
              "      <th>Comprehensible_Code_with_logical_errors</th>\n",
              "      <th>Comprehensible_code_with_syntax_errors</th>\n",
              "      <th>Correct_code_and_output</th>\n",
              "      <th>Final_Marks</th>\n",
              "    </tr>\n",
              "  </thead>\n",
              "  <tbody>\n",
              "    <tr>\n",
              "      <th>0</th>\n",
              "      <td>2</td>\n",
              "      <td>2.0</td>\n",
              "      <td>2</td>\n",
              "      <td>2.0</td>\n",
              "      <td>2</td>\n",
              "      <td>10</td>\n",
              "    </tr>\n",
              "    <tr>\n",
              "      <th>1</th>\n",
              "      <td>2</td>\n",
              "      <td>2.0</td>\n",
              "      <td>2</td>\n",
              "      <td>2.0</td>\n",
              "      <td>0</td>\n",
              "      <td>8</td>\n",
              "    </tr>\n",
              "    <tr>\n",
              "      <th>2</th>\n",
              "      <td>2</td>\n",
              "      <td>2.0</td>\n",
              "      <td>1</td>\n",
              "      <td>1.0</td>\n",
              "      <td>1</td>\n",
              "      <td>7</td>\n",
              "    </tr>\n",
              "    <tr>\n",
              "      <th>3</th>\n",
              "      <td>2</td>\n",
              "      <td>1.0</td>\n",
              "      <td>1</td>\n",
              "      <td>1.0</td>\n",
              "      <td>0</td>\n",
              "      <td>5</td>\n",
              "    </tr>\n",
              "    <tr>\n",
              "      <th>4</th>\n",
              "      <td>2</td>\n",
              "      <td>2.0</td>\n",
              "      <td>1</td>\n",
              "      <td>1.0</td>\n",
              "      <td>0</td>\n",
              "      <td>6</td>\n",
              "    </tr>\n",
              "    <tr>\n",
              "      <th>...</th>\n",
              "      <td>...</td>\n",
              "      <td>...</td>\n",
              "      <td>...</td>\n",
              "      <td>...</td>\n",
              "      <td>...</td>\n",
              "      <td>...</td>\n",
              "    </tr>\n",
              "    <tr>\n",
              "      <th>1171</th>\n",
              "      <td>1</td>\n",
              "      <td>0.0</td>\n",
              "      <td>0</td>\n",
              "      <td>0.0</td>\n",
              "      <td>0</td>\n",
              "      <td>1</td>\n",
              "    </tr>\n",
              "    <tr>\n",
              "      <th>1172</th>\n",
              "      <td>2</td>\n",
              "      <td>2.0</td>\n",
              "      <td>2</td>\n",
              "      <td>1.0</td>\n",
              "      <td>1</td>\n",
              "      <td>8</td>\n",
              "    </tr>\n",
              "    <tr>\n",
              "      <th>1173</th>\n",
              "      <td>2</td>\n",
              "      <td>0.0</td>\n",
              "      <td>0</td>\n",
              "      <td>0.0</td>\n",
              "      <td>0</td>\n",
              "      <td>2</td>\n",
              "    </tr>\n",
              "    <tr>\n",
              "      <th>1174</th>\n",
              "      <td>2</td>\n",
              "      <td>2.0</td>\n",
              "      <td>1</td>\n",
              "      <td>2.0</td>\n",
              "      <td>1</td>\n",
              "      <td>8</td>\n",
              "    </tr>\n",
              "    <tr>\n",
              "      <th>1175</th>\n",
              "      <td>2</td>\n",
              "      <td>2.0</td>\n",
              "      <td>2</td>\n",
              "      <td>2.0</td>\n",
              "      <td>2</td>\n",
              "      <td>10</td>\n",
              "    </tr>\n",
              "  </tbody>\n",
              "</table>\n",
              "<p>1176 rows × 6 columns</p>\n",
              "</div>\n",
              "    <div class=\"colab-df-buttons\">\n",
              "\n",
              "  <div class=\"colab-df-container\">\n",
              "    <button class=\"colab-df-convert\" onclick=\"convertToInteractive('df-e01a0ca0-3d8e-4fe8-8ce3-da1d88012f7e')\"\n",
              "            title=\"Convert this dataframe to an interactive table.\"\n",
              "            style=\"display:none;\">\n",
              "\n",
              "  <svg xmlns=\"http://www.w3.org/2000/svg\" height=\"24px\" viewBox=\"0 -960 960 960\">\n",
              "    <path d=\"M120-120v-720h720v720H120Zm60-500h600v-160H180v160Zm220 220h160v-160H400v160Zm0 220h160v-160H400v160ZM180-400h160v-160H180v160Zm440 0h160v-160H620v160ZM180-180h160v-160H180v160Zm440 0h160v-160H620v160Z\"/>\n",
              "  </svg>\n",
              "    </button>\n",
              "\n",
              "  <style>\n",
              "    .colab-df-container {\n",
              "      display:flex;\n",
              "      gap: 12px;\n",
              "    }\n",
              "\n",
              "    .colab-df-convert {\n",
              "      background-color: #E8F0FE;\n",
              "      border: none;\n",
              "      border-radius: 50%;\n",
              "      cursor: pointer;\n",
              "      display: none;\n",
              "      fill: #1967D2;\n",
              "      height: 32px;\n",
              "      padding: 0 0 0 0;\n",
              "      width: 32px;\n",
              "    }\n",
              "\n",
              "    .colab-df-convert:hover {\n",
              "      background-color: #E2EBFA;\n",
              "      box-shadow: 0px 1px 2px rgba(60, 64, 67, 0.3), 0px 1px 3px 1px rgba(60, 64, 67, 0.15);\n",
              "      fill: #174EA6;\n",
              "    }\n",
              "\n",
              "    .colab-df-buttons div {\n",
              "      margin-bottom: 4px;\n",
              "    }\n",
              "\n",
              "    [theme=dark] .colab-df-convert {\n",
              "      background-color: #3B4455;\n",
              "      fill: #D2E3FC;\n",
              "    }\n",
              "\n",
              "    [theme=dark] .colab-df-convert:hover {\n",
              "      background-color: #434B5C;\n",
              "      box-shadow: 0px 1px 3px 1px rgba(0, 0, 0, 0.15);\n",
              "      filter: drop-shadow(0px 1px 2px rgba(0, 0, 0, 0.3));\n",
              "      fill: #FFFFFF;\n",
              "    }\n",
              "  </style>\n",
              "\n",
              "    <script>\n",
              "      const buttonEl =\n",
              "        document.querySelector('#df-e01a0ca0-3d8e-4fe8-8ce3-da1d88012f7e button.colab-df-convert');\n",
              "      buttonEl.style.display =\n",
              "        google.colab.kernel.accessAllowed ? 'block' : 'none';\n",
              "\n",
              "      async function convertToInteractive(key) {\n",
              "        const element = document.querySelector('#df-e01a0ca0-3d8e-4fe8-8ce3-da1d88012f7e');\n",
              "        const dataTable =\n",
              "          await google.colab.kernel.invokeFunction('convertToInteractive',\n",
              "                                                    [key], {});\n",
              "        if (!dataTable) return;\n",
              "\n",
              "        const docLinkHtml = 'Like what you see? Visit the ' +\n",
              "          '<a target=\"_blank\" href=https://colab.research.google.com/notebooks/data_table.ipynb>data table notebook</a>'\n",
              "          + ' to learn more about interactive tables.';\n",
              "        element.innerHTML = '';\n",
              "        dataTable['output_type'] = 'display_data';\n",
              "        await google.colab.output.renderOutput(dataTable, element);\n",
              "        const docLink = document.createElement('div');\n",
              "        docLink.innerHTML = docLinkHtml;\n",
              "        element.appendChild(docLink);\n",
              "      }\n",
              "    </script>\n",
              "  </div>\n",
              "\n",
              "\n",
              "<div id=\"df-81a9095c-df46-469a-9368-7beaee8125b0\">\n",
              "  <button class=\"colab-df-quickchart\" onclick=\"quickchart('df-81a9095c-df46-469a-9368-7beaee8125b0')\"\n",
              "            title=\"Suggest charts\"\n",
              "            style=\"display:none;\">\n",
              "\n",
              "<svg xmlns=\"http://www.w3.org/2000/svg\" height=\"24px\"viewBox=\"0 0 24 24\"\n",
              "     width=\"24px\">\n",
              "    <g>\n",
              "        <path d=\"M19 3H5c-1.1 0-2 .9-2 2v14c0 1.1.9 2 2 2h14c1.1 0 2-.9 2-2V5c0-1.1-.9-2-2-2zM9 17H7v-7h2v7zm4 0h-2V7h2v10zm4 0h-2v-4h2v4z\"/>\n",
              "    </g>\n",
              "</svg>\n",
              "  </button>\n",
              "\n",
              "<style>\n",
              "  .colab-df-quickchart {\n",
              "      --bg-color: #E8F0FE;\n",
              "      --fill-color: #1967D2;\n",
              "      --hover-bg-color: #E2EBFA;\n",
              "      --hover-fill-color: #174EA6;\n",
              "      --disabled-fill-color: #AAA;\n",
              "      --disabled-bg-color: #DDD;\n",
              "  }\n",
              "\n",
              "  [theme=dark] .colab-df-quickchart {\n",
              "      --bg-color: #3B4455;\n",
              "      --fill-color: #D2E3FC;\n",
              "      --hover-bg-color: #434B5C;\n",
              "      --hover-fill-color: #FFFFFF;\n",
              "      --disabled-bg-color: #3B4455;\n",
              "      --disabled-fill-color: #666;\n",
              "  }\n",
              "\n",
              "  .colab-df-quickchart {\n",
              "    background-color: var(--bg-color);\n",
              "    border: none;\n",
              "    border-radius: 50%;\n",
              "    cursor: pointer;\n",
              "    display: none;\n",
              "    fill: var(--fill-color);\n",
              "    height: 32px;\n",
              "    padding: 0;\n",
              "    width: 32px;\n",
              "  }\n",
              "\n",
              "  .colab-df-quickchart:hover {\n",
              "    background-color: var(--hover-bg-color);\n",
              "    box-shadow: 0 1px 2px rgba(60, 64, 67, 0.3), 0 1px 3px 1px rgba(60, 64, 67, 0.15);\n",
              "    fill: var(--button-hover-fill-color);\n",
              "  }\n",
              "\n",
              "  .colab-df-quickchart-complete:disabled,\n",
              "  .colab-df-quickchart-complete:disabled:hover {\n",
              "    background-color: var(--disabled-bg-color);\n",
              "    fill: var(--disabled-fill-color);\n",
              "    box-shadow: none;\n",
              "  }\n",
              "\n",
              "  .colab-df-spinner {\n",
              "    border: 2px solid var(--fill-color);\n",
              "    border-color: transparent;\n",
              "    border-bottom-color: var(--fill-color);\n",
              "    animation:\n",
              "      spin 1s steps(1) infinite;\n",
              "  }\n",
              "\n",
              "  @keyframes spin {\n",
              "    0% {\n",
              "      border-color: transparent;\n",
              "      border-bottom-color: var(--fill-color);\n",
              "      border-left-color: var(--fill-color);\n",
              "    }\n",
              "    20% {\n",
              "      border-color: transparent;\n",
              "      border-left-color: var(--fill-color);\n",
              "      border-top-color: var(--fill-color);\n",
              "    }\n",
              "    30% {\n",
              "      border-color: transparent;\n",
              "      border-left-color: var(--fill-color);\n",
              "      border-top-color: var(--fill-color);\n",
              "      border-right-color: var(--fill-color);\n",
              "    }\n",
              "    40% {\n",
              "      border-color: transparent;\n",
              "      border-right-color: var(--fill-color);\n",
              "      border-top-color: var(--fill-color);\n",
              "    }\n",
              "    60% {\n",
              "      border-color: transparent;\n",
              "      border-right-color: var(--fill-color);\n",
              "    }\n",
              "    80% {\n",
              "      border-color: transparent;\n",
              "      border-right-color: var(--fill-color);\n",
              "      border-bottom-color: var(--fill-color);\n",
              "    }\n",
              "    90% {\n",
              "      border-color: transparent;\n",
              "      border-bottom-color: var(--fill-color);\n",
              "    }\n",
              "  }\n",
              "</style>\n",
              "\n",
              "  <script>\n",
              "    async function quickchart(key) {\n",
              "      const quickchartButtonEl =\n",
              "        document.querySelector('#' + key + ' button');\n",
              "      quickchartButtonEl.disabled = true;  // To prevent multiple clicks.\n",
              "      quickchartButtonEl.classList.add('colab-df-spinner');\n",
              "      try {\n",
              "        const charts = await google.colab.kernel.invokeFunction(\n",
              "            'suggestCharts', [key], {});\n",
              "      } catch (error) {\n",
              "        console.error('Error during call to suggestCharts:', error);\n",
              "      }\n",
              "      quickchartButtonEl.classList.remove('colab-df-spinner');\n",
              "      quickchartButtonEl.classList.add('colab-df-quickchart-complete');\n",
              "    }\n",
              "    (() => {\n",
              "      let quickchartButtonEl =\n",
              "        document.querySelector('#df-81a9095c-df46-469a-9368-7beaee8125b0 button');\n",
              "      quickchartButtonEl.style.display =\n",
              "        google.colab.kernel.accessAllowed ? 'block' : 'none';\n",
              "    })();\n",
              "  </script>\n",
              "</div>\n",
              "\n",
              "  <div id=\"id_cc12e74c-9195-4762-81a5-d349000ffdd0\">\n",
              "    <style>\n",
              "      .colab-df-generate {\n",
              "        background-color: #E8F0FE;\n",
              "        border: none;\n",
              "        border-radius: 50%;\n",
              "        cursor: pointer;\n",
              "        display: none;\n",
              "        fill: #1967D2;\n",
              "        height: 32px;\n",
              "        padding: 0 0 0 0;\n",
              "        width: 32px;\n",
              "      }\n",
              "\n",
              "      .colab-df-generate:hover {\n",
              "        background-color: #E2EBFA;\n",
              "        box-shadow: 0px 1px 2px rgba(60, 64, 67, 0.3), 0px 1px 3px 1px rgba(60, 64, 67, 0.15);\n",
              "        fill: #174EA6;\n",
              "      }\n",
              "\n",
              "      [theme=dark] .colab-df-generate {\n",
              "        background-color: #3B4455;\n",
              "        fill: #D2E3FC;\n",
              "      }\n",
              "\n",
              "      [theme=dark] .colab-df-generate:hover {\n",
              "        background-color: #434B5C;\n",
              "        box-shadow: 0px 1px 3px 1px rgba(0, 0, 0, 0.15);\n",
              "        filter: drop-shadow(0px 1px 2px rgba(0, 0, 0, 0.3));\n",
              "        fill: #FFFFFF;\n",
              "      }\n",
              "    </style>\n",
              "    <button class=\"colab-df-generate\" onclick=\"generateWithVariable('df')\"\n",
              "            title=\"Generate code using this dataframe.\"\n",
              "            style=\"display:none;\">\n",
              "\n",
              "  <svg xmlns=\"http://www.w3.org/2000/svg\" height=\"24px\"viewBox=\"0 0 24 24\"\n",
              "       width=\"24px\">\n",
              "    <path d=\"M7,19H8.4L18.45,9,17,7.55,7,17.6ZM5,21V16.75L18.45,3.32a2,2,0,0,1,2.83,0l1.4,1.43a1.91,1.91,0,0,1,.58,1.4,1.91,1.91,0,0,1-.58,1.4L9.25,21ZM18.45,9,17,7.55Zm-12,3A5.31,5.31,0,0,0,4.9,8.1,5.31,5.31,0,0,0,1,6.5,5.31,5.31,0,0,0,4.9,4.9,5.31,5.31,0,0,0,6.5,1,5.31,5.31,0,0,0,8.1,4.9,5.31,5.31,0,0,0,12,6.5,5.46,5.46,0,0,0,6.5,12Z\"/>\n",
              "  </svg>\n",
              "    </button>\n",
              "    <script>\n",
              "      (() => {\n",
              "      const buttonEl =\n",
              "        document.querySelector('#id_cc12e74c-9195-4762-81a5-d349000ffdd0 button.colab-df-generate');\n",
              "      buttonEl.style.display =\n",
              "        google.colab.kernel.accessAllowed ? 'block' : 'none';\n",
              "\n",
              "      buttonEl.onclick = () => {\n",
              "        google.colab.notebook.generateWithVariable('df');\n",
              "      }\n",
              "      })();\n",
              "    </script>\n",
              "  </div>\n",
              "\n",
              "    </div>\n",
              "  </div>\n"
            ],
            "application/vnd.google.colaboratory.intrinsic+json": {
              "type": "dataframe",
              "variable_name": "df",
              "summary": "{\n  \"name\": \"df\",\n  \"rows\": 1176,\n  \"fields\": [\n    {\n      \"column\": \"Header_and_Main_Declaration\",\n      \"properties\": {\n        \"dtype\": \"number\",\n        \"std\": 0,\n        \"min\": 0,\n        \"max\": 3,\n        \"num_unique_values\": 4,\n        \"samples\": [\n          1,\n          3,\n          2\n        ],\n        \"semantic_type\": \"\",\n        \"description\": \"\"\n      }\n    },\n    {\n      \"column\": \"Incomprehensible_Code\",\n      \"properties\": {\n        \"dtype\": \"number\",\n        \"std\": 0.928336421044816,\n        \"min\": 0.0,\n        \"max\": 2.0,\n        \"num_unique_values\": 3,\n        \"samples\": [\n          2.0,\n          1.0,\n          0.0\n        ],\n        \"semantic_type\": \"\",\n        \"description\": \"\"\n      }\n    },\n    {\n      \"column\": \"Comprehensible_Code_with_logical_errors\",\n      \"properties\": {\n        \"dtype\": \"number\",\n        \"std\": 0,\n        \"min\": 0,\n        \"max\": 4,\n        \"num_unique_values\": 5,\n        \"samples\": [\n          1,\n          4,\n          0\n        ],\n        \"semantic_type\": \"\",\n        \"description\": \"\"\n      }\n    },\n    {\n      \"column\": \"Comprehensible_code_with_syntax_errors\",\n      \"properties\": {\n        \"dtype\": \"number\",\n        \"std\": 0.7788323461559163,\n        \"min\": 0.0,\n        \"max\": 5.0,\n        \"num_unique_values\": 6,\n        \"samples\": [\n          2.0,\n          1.0,\n          5.0\n        ],\n        \"semantic_type\": \"\",\n        \"description\": \"\"\n      }\n    },\n    {\n      \"column\": \"Correct_code_and_output\",\n      \"properties\": {\n        \"dtype\": \"number\",\n        \"std\": 0,\n        \"min\": 0,\n        \"max\": 4,\n        \"num_unique_values\": 5,\n        \"samples\": [\n          0,\n          4,\n          1\n        ],\n        \"semantic_type\": \"\",\n        \"description\": \"\"\n      }\n    },\n    {\n      \"column\": \"Final_Marks\",\n      \"properties\": {\n        \"dtype\": \"number\",\n        \"std\": 2,\n        \"min\": 0,\n        \"max\": 10,\n        \"num_unique_values\": 11,\n        \"samples\": [\n          4,\n          10,\n          3\n        ],\n        \"semantic_type\": \"\",\n        \"description\": \"\"\n      }\n    }\n  ]\n}"
            }
          },
          "metadata": {},
          "execution_count": 16
        }
      ]
    },
    {
      "cell_type": "code",
      "source": [
        "target = []\n",
        "for data in df['Final_Marks']:\n",
        "    if data < 5:\n",
        "        target.append(0)\n",
        "    else:\n",
        "        target.append(1)\n",
        "\n",
        "df = df.drop('Final_Marks', axis = 1)"
      ],
      "metadata": {
        "id": "wCSL43kEroJC"
      },
      "execution_count": null,
      "outputs": []
    },
    {
      "cell_type": "code",
      "source": [
        "df['Target'] = target"
      ],
      "metadata": {
        "id": "-vi7dyBBybUz"
      },
      "execution_count": null,
      "outputs": []
    },
    {
      "cell_type": "code",
      "source": [
        "#1\n",
        "import numpy as np\n",
        "features = df.drop(columns=['Target'])\n",
        "target = df['Target']\n",
        "\n",
        "means = {} #empty list to store all means\n",
        "classes = target.unique() # takes all classes which are unique\n",
        "\n",
        "for cls in classes:\n",
        "    class_data = features[target == cls]\n",
        "    means[cls] = class_data.mean(axis=0) #mean\n",
        "\n",
        "print(\"Class Means (Centroids):\")\n",
        "for cls, mean in means.items():\n",
        "    print(f\"Class {cls}: {mean.round(5).tolist()}\")"
      ],
      "metadata": {
        "id": "Uv8MIGwQzL98",
        "colab": {
          "base_uri": "https://localhost:8080/"
        },
        "outputId": "936c8fe5-6d7d-4708-87df-468e517460aa"
      },
      "execution_count": null,
      "outputs": [
        {
          "output_type": "stream",
          "name": "stdout",
          "text": [
            "Class Means (Centroids):\n",
            "Class 1: [1.88662, 1.56815, 1.30828, 1.23694, 0.67643]\n",
            "Class 0: [1.53197, 0.34271, 0.54476, 0.68286, 0.04348]\n"
          ]
        }
      ]
    },
    {
      "cell_type": "code",
      "source": [
        "spreads = {} #empty list to store all spreads\n",
        "\n",
        "for cls in classes:\n",
        "    class_data = features[target == cls]\n",
        "    spreads[cls] = class_data.std(axis=0)\n",
        "\n",
        "print(\"Class Spreads (Standard Deviations):\")\n",
        "for cls, spread in spreads.items():\n",
        "    print(f\"Class {cls}: {spread.round(5).tolist()}\")"
      ],
      "metadata": {
        "colab": {
          "base_uri": "https://localhost:8080/"
        },
        "id": "YaTMTyO50QsG",
        "outputId": "e518d9dc-73b8-46df-d77a-8bd4cb6f5a50"
      },
      "execution_count": null,
      "outputs": [
        {
          "output_type": "stream",
          "name": "stdout",
          "text": [
            "Class Spreads (Standard Deviations):\n",
            "Class 1: [0.37612, 0.76315, 0.82018, 0.71956, 0.81427]\n",
            "Class 0: [0.79316, 0.64862, 0.6698, 0.76238, 0.24941]\n"
          ]
        }
      ]
    },
    {
      "cell_type": "code",
      "source": [
        "from numpy.linalg import norm\n",
        "\n",
        "def calculate_distance(mean1, mean2):\n",
        "    return norm(mean1 - mean2) # The Euclidean distance is the norm of the difference between the two vectors\n",
        "\n",
        "class_0_mean = means[0] #mean for class 0\n",
        "class_1_mean = means[1] #mean for class 1\n",
        "\n",
        "distance = calculate_distance(class_0_mean, class_1_mean)\n",
        "print(f\"Distance between class 0 and class 1: {distance:.5f}\")"
      ],
      "metadata": {
        "colab": {
          "base_uri": "https://localhost:8080/"
        },
        "id": "UybiB6WC3IPa",
        "outputId": "baf37616-6210-42f3-ec38-9ae31a2dd49d"
      },
      "execution_count": null,
      "outputs": [
        {
          "output_type": "stream",
          "name": "stdout",
          "text": [
            "Distance between class 0 and class 1: 1.70824\n"
          ]
        }
      ]
    },
    {
      "cell_type": "code",
      "source": [
        "#2 plotting histogram using matplitlib\n",
        "import matplotlib.pyplot as plt\n",
        "plt.hist(df['Correct_code_and_output'], bins=5, edgecolor='black')\n",
        "plt.xlabel('Correct_code_and_output')\n",
        "plt.ylabel('Frequency')\n",
        "plt.title('Histogram of Correct_code_and_output')\n",
        "\n",
        "plt.show()\n",
        "\n",
        "mean_final_marks = np.mean(df['Correct_code_and_output'])\n",
        "variance_final_marks = np.var(df['Correct_code_and_output'])\n",
        "\n",
        "print(f\"Mean of Final_Marks: {mean_final_marks:.5f}\")\n",
        "print(f\"Variance of Final_Marks: {variance_final_marks:.5f}\")"
      ],
      "metadata": {
        "colab": {
          "base_uri": "https://localhost:8080/",
          "height": 508
        },
        "id": "qQTahqTi3WGI",
        "outputId": "645d85ba-33dd-4b4c-8e4f-853eba204e2c"
      },
      "execution_count": null,
      "outputs": [
        {
          "output_type": "display_data",
          "data": {
            "text/plain": [
              "<Figure size 640x480 with 1 Axes>"
            ],
            "image/png": "[encoded data removed]"
          },
          "metadata": {}
        },
        {
          "output_type": "stream",
          "name": "stdout",
          "text": [
            "Mean of Final_Marks: 0.46599\n",
            "Variance of Final_Marks: 0.55156\n"
          ]
        }
      ]
    },
    {
      "cell_type": "code",
      "source": [
        "df['Correct_code_and_output'].unique()"
      ],
      "metadata": {
        "colab": {
          "base_uri": "https://localhost:8080/"
        },
        "id": "HOpUgqnj6Bgh",
        "outputId": "d4e042dd-9274-47da-d1af-dbda57ebf2f8"
      },
      "execution_count": null,
      "outputs": [
        {
          "output_type": "execute_result",
          "data": {
            "text/plain": [
              "array([2, 0, 1, 3, 4])"
            ]
          },
          "metadata": {},
          "execution_count": 23
        }
      ]
    },
    {
      "cell_type": "code",
      "source": [
        "#3\n",
        "from scipy.spatial.distance import minkowski\n",
        "import numpy as np\n",
        "import matplotlib.pyplot as plt\n",
        "\n",
        "# Select two feature vectors (rows) from the dataset\n",
        "vec1 = df.iloc[0].values  # First row\n",
        "vec2 = df.iloc[5].values  # Second row\n",
        "\n",
        "r_values = np.arange(1, 11)  # array with values from 1 to 10\n",
        "distances = [minkowski(vec1, vec2, r) for r in r_values]  # Calculates Minkowski distances for each r\n",
        "plt.plot(r_values, distances, marker='o')\n",
        "plt.title('Minkowski Distance vs. Order (r)')\n",
        "plt.xlabel('Order (r)')\n",
        "plt.ylabel('Distance')\n",
        "plt.grid(True)\n",
        "plt.xticks(r_values)\n",
        "plt.show()\n",
        "\n",
        "for r, dist in zip(r_values, distances):\n",
        "    print(f\"Minkowski Distance with r={r}: {dist:.5f}\")\n"
      ],
      "metadata": {
        "colab": {
          "base_uri": "https://localhost:8080/",
          "height": 651
        },
        "id": "pUmDqjel6KtF",
        "outputId": "992bc923-652e-4080-895b-785b980c8f82"
      },
      "execution_count": null,
      "outputs": [
        {
          "output_type": "display_data",
          "data": {
            "text/plain": [
              "<Figure size 640x480 with 1 Axes>"
            ],
            "image/png": "[encoded data removed]"
          },
          "metadata": {}
        },
        {
          "output_type": "stream",
          "name": "stdout",
          "text": [
            "Minkowski Distance with r=1: 7.00000\n",
            "Minkowski Distance with r=2: 3.31662\n",
            "Minkowski Distance with r=3: 2.66840\n",
            "Minkowski Distance with r=4: 2.43230\n",
            "Minkowski Distance with r=5: 2.31854\n",
            "Minkowski Distance with r=6: 2.25361\n",
            "Minkowski Distance with r=7: 2.21186\n",
            "Minkowski Distance with r=8: 2.18261\n",
            "Minkowski Distance with r=9: 2.16082\n",
            "Minkowski Distance with r=10: 2.14386\n"
          ]
        }
      ]
    },
    {
      "cell_type": "code",
      "source": [
        "#4\n",
        "import numpy as np\n",
        "from sklearn.model_selection import train_test_split\n",
        "X = df.drop('Target', axis=1)\n",
        "y = df['Target']\n",
        "\n",
        "X_train, X_test, y_train, y_test = train_test_split(X, y, test_size=0.3, random_state=42) #dividing data into test and train\n",
        "\n",
        "print(\"Training feature shape:\", X_train.shape)\n",
        "print(\"Testing feature shape:\", X_test.shape)\n",
        "print(\"Training labels shape:\", y_train.shape)\n",
        "print(\"Testing labels shape:\", y_test.shape)\n",
        "print(\"X_train:\")\n",
        "print(X_train)\n",
        "print(\"\\nX_test:\")\n",
        "print(X_test)\n",
        "print(\"\\ny_train:\")\n",
        "print(y_train)\n",
        "print(\"\\ny_test:\")\n",
        "print(y_test)"
      ],
      "metadata": {
        "colab": {
          "base_uri": "https://localhost:8080/"
        },
        "id": "Tu-pi6P36OTX",
        "outputId": "f261842c-1e75-4cce-b0ff-bfe8e857094b"
      },
      "execution_count": null,
      "outputs": [
        {
          "output_type": "stream",
          "name": "stdout",
          "text": [
            "Training feature shape: (823, 5)\n",
            "Testing feature shape: (353, 5)\n",
            "Training labels shape: (823,)\n",
            "Testing labels shape: (353,)\n",
            "X_train:\n",
            "      Header_and_Main_Declaration  Incomprehensible_Code  \\\n",
            "533                             2                    2.0   \n",
            "542                             2                    2.0   \n",
            "692                             2                    1.0   \n",
            "462                             2                    2.0   \n",
            "991                             2                    0.0   \n",
            "...                           ...                    ...   \n",
            "1044                            2                    1.0   \n",
            "1095                            2                    2.0   \n",
            "1130                            3                    0.0   \n",
            "860                             2                    2.0   \n",
            "1126                            3                    0.0   \n",
            "\n",
            "      Comprehensible_Code_with_logical_errors  \\\n",
            "533                                         0   \n",
            "542                                         1   \n",
            "692                                         1   \n",
            "462                                         1   \n",
            "991                                         1   \n",
            "...                                       ...   \n",
            "1044                                        0   \n",
            "1095                                        2   \n",
            "1130                                        4   \n",
            "860                                         0   \n",
            "1126                                        4   \n",
            "\n",
            "      Comprehensible_code_with_syntax_errors  Correct_code_and_output  \n",
            "533                                      2.0                        1  \n",
            "542                                      1.0                        1  \n",
            "692                                      2.0                        1  \n",
            "462                                      1.0                        0  \n",
            "991                                      1.0                        2  \n",
            "...                                      ...                      ...  \n",
            "1044                                     0.0                        0  \n",
            "1095                                     2.0                        2  \n",
            "1130                                     1.0                        0  \n",
            "860                                      1.0                        0  \n",
            "1126                                     1.0                        0  \n",
            "\n",
            "[823 rows x 5 columns]\n",
            "\n",
            "X_test:\n",
            "      Header_and_Main_Declaration  Incomprehensible_Code  \\\n",
            "107                             2                    2.0   \n",
            "591                             2                    2.0   \n",
            "81                              0                    2.0   \n",
            "323                             2                    2.0   \n",
            "904                             2                    0.0   \n",
            "...                           ...                    ...   \n",
            "721                             2                    2.0   \n",
            "465                             2                    1.0   \n",
            "598                             0                    0.0   \n",
            "1153                            2                    2.0   \n",
            "757                             2                    0.0   \n",
            "\n",
            "      Comprehensible_Code_with_logical_errors  \\\n",
            "107                                         0   \n",
            "591                                         0   \n",
            "81                                          2   \n",
            "323                                         0   \n",
            "904                                         1   \n",
            "...                                       ...   \n",
            "721                                         2   \n",
            "465                                         2   \n",
            "598                                         0   \n",
            "1153                                        2   \n",
            "757                                         2   \n",
            "\n",
            "      Comprehensible_code_with_syntax_errors  Correct_code_and_output  \n",
            "107                                      1.0                        0  \n",
            "591                                      2.0                        2  \n",
            "81                                       0.0                        0  \n",
            "323                                      0.0                        0  \n",
            "904                                      0.0                        0  \n",
            "...                                      ...                      ...  \n",
            "721                                      1.0                        0  \n",
            "465                                      1.0                        0  \n",
            "598                                      2.0                        0  \n",
            "1153                                     0.0                        0  \n",
            "757                                      0.0                        0  \n",
            "\n",
            "[353 rows x 5 columns]\n",
            "\n",
            "y_train:\n",
            "533     1\n",
            "542     1\n",
            "692     1\n",
            "462     1\n",
            "991     1\n",
            "       ..\n",
            "1044    0\n",
            "1095    1\n",
            "1130    1\n",
            "860     1\n",
            "1126    1\n",
            "Name: Target, Length: 823, dtype: int64\n",
            "\n",
            "y_test:\n",
            "107     1\n",
            "591     1\n",
            "81      0\n",
            "323     0\n",
            "904     0\n",
            "       ..\n",
            "721     1\n",
            "465     1\n",
            "598     0\n",
            "1153    1\n",
            "757     0\n",
            "Name: Target, Length: 353, dtype: int64\n"
          ]
        }
      ]
    },
    {
      "cell_type": "code",
      "source": [
        "#5\n",
        "import numpy as np\n",
        "from sklearn.neighbors import KNeighborsClassifier\n",
        "model = KNeighborsClassifier(n_neighbors=3)\n",
        "\n",
        "model.fit(X_train, y_train)"
      ],
      "metadata": {
        "colab": {
          "base_uri": "https://localhost:8080/",
          "height": 75
        },
        "id": "oLCtmdYgBdve",
        "outputId": "28f7e9ae-b20c-43bb-8fe5-39f74c4b57d2"
      },
      "execution_count": null,
      "outputs": [
        {
          "output_type": "execute_result",
          "data": {
            "text/plain": [
              "KNeighborsClassifier(n_neighbors=3)"
            ],
            "text/html": [
              "<style>#sk-container-id-1 {color: black;}#sk-container-id-1 pre{padding: 0;}#sk-container-id-1 div.sk-toggleable {background-color: white;}#sk-container-id-1 label.sk-toggleable__label {cursor: pointer;display: block;width: 100%;margin-bottom: 0;padding: 0.3em;box-sizing: border-box;text-align: center;}#sk-container-id-1 label.sk-toggleable__label-arrow:before {content: \"▸\";float: left;margin-right: 0.25em;color: #696969;}#sk-container-id-1 label.sk-toggleable__label-arrow:hover:before {color: black;}#sk-container-id-1 div.sk-estimator:hover label.sk-toggleable__label-arrow:before {color: black;}#sk-container-id-1 div.sk-toggleable__content {max-height: 0;max-width: 0;overflow: hidden;text-align: left;background-color: #f0f8ff;}#sk-container-id-1 div.sk-toggleable__content pre {margin: 0.2em;color: black;border-radius: 0.25em;background-color: #f0f8ff;}#sk-container-id-1 input.sk-toggleable__control:checked~div.sk-toggleable__content {max-height: 200px;max-width: 100%;overflow: auto;}#sk-container-id-1 input.sk-toggleable__control:checked~label.sk-toggleable__label-arrow:before {content: \"▾\";}#sk-container-id-1 div.sk-estimator input.sk-toggleable__control:checked~label.sk-toggleable__label {background-color: #d4ebff;}#sk-container-id-1 div.sk-label input.sk-toggleable__control:checked~label.sk-toggleable__label {background-color: #d4ebff;}#sk-container-id-1 input.sk-hidden--visually {border: 0;clip: rect(1px 1px 1px 1px);clip: rect(1px, 1px, 1px, 1px);height: 1px;margin: -1px;overflow: hidden;padding: 0;position: absolute;width: 1px;}#sk-container-id-1 div.sk-estimator {font-family: monospace;background-color: #f0f8ff;border: 1px dotted black;border-radius: 0.25em;box-sizing: border-box;margin-bottom: 0.5em;}#sk-container-id-1 div.sk-estimator:hover {background-color: #d4ebff;}#sk-container-id-1 div.sk-parallel-item::after {content: \"\";width: 100%;border-bottom: 1px solid gray;flex-grow: 1;}#sk-container-id-1 div.sk-label:hover label.sk-toggleable__label {background-color: #d4ebff;}#sk-container-id-1 div.sk-serial::before {content: \"\";position: absolute;border-left: 1px solid gray;box-sizing: border-box;top: 0;bottom: 0;left: 50%;z-index: 0;}#sk-container-id-1 div.sk-serial {display: flex;flex-direction: column;align-items: center;background-color: white;padding-right: 0.2em;padding-left: 0.2em;position: relative;}#sk-container-id-1 div.sk-item {position: relative;z-index: 1;}#sk-container-id-1 div.sk-parallel {display: flex;align-items: stretch;justify-content: center;background-color: white;position: relative;}#sk-container-id-1 div.sk-item::before, #sk-container-id-1 div.sk-parallel-item::before {content: \"\";position: absolute;border-left: 1px solid gray;box-sizing: border-box;top: 0;bottom: 0;left: 50%;z-index: -1;}#sk-container-id-1 div.sk-parallel-item {display: flex;flex-direction: column;z-index: 1;position: relative;background-color: white;}#sk-container-id-1 div.sk-parallel-item:first-child::after {align-self: flex-end;width: 50%;}#sk-container-id-1 div.sk-parallel-item:last-child::after {align-self: flex-start;width: 50%;}#sk-container-id-1 div.sk-parallel-item:only-child::after {width: 0;}#sk-container-id-1 div.sk-dashed-wrapped {border: 1px dashed gray;margin: 0 0.4em 0.5em 0.4em;box-sizing: border-box;padding-bottom: 0.4em;background-color: white;}#sk-container-id-1 div.sk-label label {font-family: monospace;font-weight: bold;display: inline-block;line-height: 1.2em;}#sk-container-id-1 div.sk-label-container {text-align: center;}#sk-container-id-1 div.sk-container {/* jupyter's `normalize.less` sets `[hidden] { display: none; }` but bootstrap.min.css set `[hidden] { display: none !important; }` so we also need the `!important` here to be able to override the default hidden behavior on the sphinx rendered scikit-learn.org. See: https://github.com/scikit-learn/scikit-learn/issues/21755 */display: inline-block !important;position: relative;}#sk-container-id-1 div.sk-text-repr-fallback {display: none;}</style><div id=\"sk-container-id-1\" class=\"sk-top-container\"><div class=\"sk-text-repr-fallback\"><pre>KNeighborsClassifier(n_neighbors=3)</pre><b>In a Jupyter environment, please rerun this cell to show the HTML representation or trust the notebook. <br />On GitHub, the HTML representation is unable to render, please try loading this page with nbviewer.org.</b></div><div class=\"sk-container\" hidden><div class=\"sk-item\"><div class=\"sk-estimator sk-toggleable\"><input class=\"sk-toggleable__control sk-hidden--visually\" id=\"sk-estimator-id-1\" type=\"checkbox\" checked><label for=\"sk-estimator-id-1\" class=\"sk-toggleable__label sk-toggleable__label-arrow\">KNeighborsClassifier</label><div class=\"sk-toggleable__content\"><pre>KNeighborsClassifier(n_neighbors=3)</pre></div></div></div></div></div>"
            ]
          },
          "metadata": {},
          "execution_count": 31
        }
      ]
    },
    {
      "cell_type": "code",
      "source": [
        "#6\n",
        "accuracy = model.score(X_test, y_test)\n",
        "print(\"Accuracy of the kNN classifier (k=3):\", accuracy)"
      ],
      "metadata": {
        "colab": {
          "base_uri": "https://localhost:8080/"
        },
        "id": "a9Ns6rkICF1Z",
        "outputId": "7d0ed942-7c39-4f9f-b206-fe4e96f6eeab"
      },
      "execution_count": null,
      "outputs": [
        {
          "output_type": "stream",
          "name": "stdout",
          "text": [
            "Accuracy of the kNN classifier (k=3): 0.9801699716713881\n"
          ]
        }
      ]
    },
    {
      "cell_type": "code",
      "source": [
        "#7\n",
        "prediction = model.predict(X_test)\n",
        "print(\"Prediction for the given vector:\", prediction)"
      ],
      "metadata": {
        "colab": {
          "base_uri": "https://localhost:8080/"
        },
        "id": "LcZwCzgECHiU",
        "outputId": "56353d11-35db-48f0-c5b0-fce2a839c212"
      },
      "execution_count": null,
      "outputs": [
        {
          "output_type": "stream",
          "name": "stdout",
          "text": [
            "Prediction for the given vector: [1 1 0 0 0 0 0 0 1 0 1 1 1 1 0 0 1 0 1 0 1 1 0 1 1 0 0 0 0 1 1 1 1 1 1 1 1\n",
            " 0 1 0 0 1 1 1 0 1 1 0 0 1 1 1 0 1 1 0 0 0 1 0 1 1 1 1 0 1 1 1 0 0 1 0 0 1\n",
            " 0 1 1 1 0 1 1 1 0 0 0 1 1 1 1 1 1 1 1 1 1 0 1 1 1 1 0 1 1 1 0 0 1 1 0 1 1\n",
            " 1 1 0 1 0 1 1 0 1 0 1 1 0 1 0 1 1 1 0 0 1 1 1 1 0 1 1 1 1 1 0 1 1 1 1 1 0\n",
            " 1 1 1 1 1 1 0 1 1 0 1 1 1 1 0 0 1 1 0 1 1 1 0 0 1 1 0 0 1 1 1 1 0 1 0 0 1\n",
            " 0 1 1 1 1 1 1 1 1 1 1 1 0 0 1 1 0 1 1 1 1 1 0 0 0 1 1 1 1 1 1 1 0 0 1 1 1\n",
            " 0 1 1 1 1 0 0 0 1 0 1 1 0 1 1 0 1 1 1 1 1 0 1 1 1 0 0 0 1 0 0 1 1 1 1 0 0\n",
            " 0 1 0 1 1 1 1 0 0 1 1 1 1 1 1 1 1 0 0 1 1 0 1 1 1 1 1 0 0 1 1 1 0 1 0 0 1\n",
            " 0 1 1 0 1 0 1 1 0 1 0 1 1 1 0 1 1 1 1 1 1 1 1 0 0 1 0 0 0 1 1 1 0 0 1 0 1\n",
            " 0 1 1 1 1 1 1 1 0 0 1 0 0 1 1 1 1 0 1 0]\n"
          ]
        }
      ]
    },
    {
      "cell_type": "code",
      "source": [
        "#8\n",
        "from sklearn.metrics import accuracy_score\n",
        "\n",
        "accuracies = []\n",
        "\n",
        "for k in range(1, 12):\n",
        "    neigh = KNeighborsClassifier(n_neighbors=k)\n",
        "\n",
        "    neigh.fit(X_train, y_train)\n",
        "\n",
        "    y_pred = neigh.predict(X_test)\n",
        "\n",
        "    accuracy = accuracy_score(y_test, y_pred)\n",
        "\n",
        "    accuracies.append(accuracy)\n",
        "plt.figure(figsize=(10, 6))\n",
        "plt.plot(range(1, 12), accuracies, marker='o')\n",
        "plt.title('kNN Classifier Accuracy for Varying k')\n",
        "plt.xlabel('Number of Neighbors (k)')\n",
        "plt.ylabel('Accuracy')\n",
        "plt.xticks(range(1, 12))\n",
        "plt.grid(True)\n",
        "plt.show()"
      ],
      "metadata": {
        "colab": {
          "base_uri": "https://localhost:8080/",
          "height": 553
        },
        "id": "bGH9zAgkCM0f",
        "outputId": "67d4fa0a-bb69-46e3-971b-dda9dd0fa5b8"
      },
      "execution_count": null,
      "outputs": [
        {
          "output_type": "display_data",
          "data": {
            "text/plain": [
              "<Figure size 1000x600 with 1 Axes>"
            ],
            "image/png": "[encoded data removed]"
          },
          "metadata": {}
        }
      ]
    },
    {
      "cell_type": "code",
      "source": [
        "#9\n",
        "model = KNeighborsClassifier(3)\n",
        "model.fit(X_train, y_train)\n",
        "\n",
        "from sklearn.metrics import confusion_matrix, classification_report\n",
        "\n",
        "y_train_pred = model.predict(X_train)\n",
        "y_test_pred = model.predict(X_test)\n",
        "\n",
        "conf_matrix_train = confusion_matrix(y_train, y_train_pred)\n",
        "conf_matrix_test = confusion_matrix(y_test, y_test_pred)\n",
        "\n",
        "class_report_train = classification_report(y_train, y_train_pred)\n",
        "class_report_test = classification_report(y_test, y_test_pred)\n",
        "\n",
        "print(\"Confusion Matrix (Training Set):\")\n",
        "print(conf_matrix_train)\n",
        "\n",
        "print(\"\\nConfusion Matrix (Test Set):\")\n",
        "print(conf_matrix_test)\n",
        "\n",
        "print(\"\\nClassification Report (Training Set):\")\n",
        "print(class_report_train)\n",
        "\n",
        "print(\"\\nClassification Report (Test Set):\")\n",
        "print(class_report_test)"
      ],
      "metadata": {
        "colab": {
          "base_uri": "https://localhost:8080/"
        },
        "id": "2J9UpRqrCU7c",
        "outputId": "538b83f8-cef4-4dc5-e264-09fd9bb7cd46"
      },
      "execution_count": null,
      "outputs": [
        {
          "output_type": "stream",
          "name": "stdout",
          "text": [
            "Confusion Matrix (Training Set):\n",
            "[[270   2]\n",
            " [  1 550]]\n",
            "\n",
            "Confusion Matrix (Test Set):\n",
            "[[117   2]\n",
            " [  5 229]]\n",
            "\n",
            "Classification Report (Training Set):\n",
            "              precision    recall  f1-score   support\n",
            "\n",
            "           0       1.00      0.99      0.99       272\n",
            "           1       1.00      1.00      1.00       551\n",
            "\n",
            "    accuracy                           1.00       823\n",
            "   macro avg       1.00      1.00      1.00       823\n",
            "weighted avg       1.00      1.00      1.00       823\n",
            "\n",
            "\n",
            "Classification Report (Test Set):\n",
            "              precision    recall  f1-score   support\n",
            "\n",
            "           0       0.96      0.98      0.97       119\n",
            "           1       0.99      0.98      0.98       234\n",
            "\n",
            "    accuracy                           0.98       353\n",
            "   macro avg       0.98      0.98      0.98       353\n",
            "weighted avg       0.98      0.98      0.98       353\n",
            "\n"
          ]
        }
      ]
    },
    {
      "cell_type": "code",
      "source": [],
      "metadata": {
        "id": "1_GcDn00ChvH"
      },
      "execution_count": null,
      "outputs": []
    }
  ]
}