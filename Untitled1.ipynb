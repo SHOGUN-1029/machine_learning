{
  "nbformat": 4,
  "nbformat_minor": 0,
  "metadata": {
    "colab": {
      "provenance": []
    },
    "kernelspec": {
      "name": "python3",
      "display_name": "Python 3"
    },
    "language_info": {
      "name": "python"
    }
  },
  "cells": [
    {
      "cell_type": "code",
      "execution_count": null,
      "metadata": {
        "id": "7TDSWzwu9Nn4"
      },
      "outputs": [],
      "source": [
        "def check(x):\n",
        "    vowel = 'AEIOUaeiou'\n",
        "    cons = 'BCDFGHJKLMNPQRSTVWXYZbcdfghjklmnpqrstvwxyz'\n",
        "    ans_vowel = 0\n",
        "    ans_cons = 0\n",
        "    for i in x:\n",
        "        if i in vowel:\n",
        "            ans_vowel += 1\n",
        "        elif i in cons:\n",
        "            ans_cons += 1\n",
        "    return ans_vowel, ans_cons\n",
        "\n",
        "def main():\n",
        "    x = input(\"Enter string: \")\n",
        "    ans_vowel, ans_cons = check(x)\n",
        "    print(f\"Vowels: {ans_vowel}, Consonants: {ans_cons}\")\n",
        "\n",
        "main()"
      ]
    },
    {
      "cell_type": "code",
      "source": [
        "#matrix multiplication\n",
        "x = int(input())\n",
        "y = int(input())\n",
        "a = int(input())\n",
        "b = int(input())\n",
        "mat_a = [[0] * y for _ in range(x)]\n",
        "mat_b = [[0] * b for _ in range(a)]\n",
        "if y !=  a:\n",
        "  print(\"Error\")\n",
        "  exit()\n",
        "\n",
        "for i in range(x):\n",
        "  for j in range(y):\n",
        "    mat_a[i][j] = int(input())\n",
        "\n",
        "for i in range(a):\n",
        "  for j in range(b):\n",
        "    mat_b[i][j] = int(input())\n",
        "\n",
        "mat_c = [[0] * b for p in range(x)]\n",
        "for i in range(x):\n",
        "    for j in range(b):\n",
        "        sum = 0\n",
        "        for k in range(y):\n",
        "            sum += mat_a[i][k] * mat_b[k][j]\n",
        "        mat_c[i][j] = sum\n",
        "\n",
        "# Print the result matrix\n",
        "print(mat_c):\n"
      ],
      "metadata": {
        "id": "bKtAnuMg9PPf"
      },
      "execution_count": null,
      "outputs": []
    },
    {
      "cell_type": "code",
      "source": [
        "def find_common_elements(a, b):\n",
        "    list_c = []\n",
        "    for m in a:\n",
        "        for n in b:\n",
        "            if m == n:\n",
        "                if m not in c:\n",
        "                    list_c.append(m)\n",
        "                break\n",
        "    return c\n",
        "\n",
        "def main():\n",
        "    list_a = []\n",
        "    list_b = []\n",
        "    x = int(input(\"size of list 1\"))\n",
        "    y = int(input(\"size of list 2\"))\n",
        "    for m in range(x):\n",
        "        value = int(input())\n",
        "        list_a.append(value)\n",
        "    for n in range(y):\n",
        "        value = int(input())\n",
        "        list_b.append(value)\n",
        "    elements = find_common_elements(a, b)\n",
        "    print(elements)\n",
        "main()"
      ],
      "metadata": {
        "id": "c0yxWBLH9UOV"
      },
      "execution_count": null,
      "outputs": []
    },
    {
      "cell_type": "code",
      "source": [
        "def trans(x):\n",
        "    if not x:\n",
        "        return []\n",
        "\n",
        "    i = len(x)\n",
        "    j = len(x[0]) if i > 0 else 0\n",
        "    transposed = [[0] * i for _ in range(j)]\n",
        "\n",
        "    for a in range(i):\n",
        "        for b in range(j):\n",
        "            transposed[b][a] = x[a][b]\n",
        "\n",
        "    return transposed\n",
        "\n",
        "def main():\n",
        "    i = int(input(\"number of rows\"))\n",
        "    j = int(input(\"number of columns\"))\n",
        "\n",
        "    x = []\n",
        "\n",
        "    print(\"matrix\")\n",
        "    for m in range(i):\n",
        "        y = []\n",
        "        for n in range(j):\n",
        "            y.append(int(input()))\n",
        "        x.append(y)\n",
        "\n",
        "    ans = trans(x)\n",
        "\n",
        "    print(ans)\n",
        "\n",
        "\n",
        "main()"
      ],
      "metadata": {
        "id": "ayu48A389Xqu"
      },
      "execution_count": null,
      "outputs": []
    }
  ]
}